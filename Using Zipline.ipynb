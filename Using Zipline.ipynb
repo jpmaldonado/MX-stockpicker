{
 "cells": [
  {
   "cell_type": "code",
   "execution_count": 39,
   "metadata": {
    "collapsed": false
   },
   "outputs": [],
   "source": [
    "import zipline\n",
    "from zipline import TradingAlgorithm\n",
    "from zipline.api import order_target, record, symbol\n",
    "import pandas_datareader.data as web\n",
    "import datetime"
   ]
  },
  {
   "cell_type": "code",
   "execution_count": 40,
   "metadata": {
    "collapsed": true
   },
   "outputs": [],
   "source": [
    "%matplotlib inline"
   ]
  },
  {
   "cell_type": "code",
   "execution_count": 41,
   "metadata": {
    "collapsed": false
   },
   "outputs": [],
   "source": [
    "# Load data from get_trades for AAPL\n",
    "sym = 'AAPL'\n",
    "start=datetime.datetime(2015,1,1)\n",
    "end= datetime.datetime(2015,2,2)\n",
    "    \n",
    "#data.price.plot(use_index=False)\n",
    "\n",
    "\n",
    "data = web.DataReader(sym, data_source='yahoo',start=start,end=end)"
   ]
  },
  {
   "cell_type": "code",
   "execution_count": 42,
   "metadata": {
    "collapsed": false
   },
   "outputs": [],
   "source": [
    "\n",
    "from zipline.api import order_target, record, symbol, history\n",
    "import numpy as np\n",
    "\n",
    "def initialize(context):\n",
    "    # Register 2 histories that track daily prices,\n",
    "    # one with a 100 window and one with a 300 day window\n",
    "    add_history(100, '1d', 'price')\n",
    "    add_history(300, '1d', 'price')\n",
    "\n",
    "    context.i = 0\n",
    "\n",
    "\n",
    "def handle_data(context, data):\n",
    "    # Skip first 300 days to get full windows\n",
    "    context.i += 1\n",
    "    if context.i < 300:\n",
    "        return\n",
    "\n",
    "    # Compute averages\n",
    "    # history() has to be called with the same params\n",
    "    # from above and returns a pandas dataframe.\n",
    "    short_mavg = history(100, '1d', 'price').mean()\n",
    "    long_mavg = history(300, '1d', 'price').mean()\n",
    "\n",
    "    # Trading logic\n",
    "    if short_mavg[0] > long_mavg[0]:\n",
    "        # order_target orders as many shares as needed to\n",
    "        # achieve the desired number of shares.\n",
    "        order_target(symbol('AAPL'), 100)\n",
    "    elif short_mavg[0] < long_mavg[0]:\n",
    "        order_target(symbol('AAPL'), 0)\n",
    "\n",
    "    # Save values for later inspection\n",
    "    record(AAPL=data[symbol('AAPL')].price,\n",
    "           short_mavg=short_mavg[0],\n",
    "           long_mavg=long_mavg[0])\n",
    "\n",
    "\n",
    "def analyze(context, perf):\n",
    "    fig = plt.figure()\n",
    "    ax1 = fig.add_subplot(211)\n",
    "    perf.portfolio_value.plot(ax=ax1)\n",
    "    ax1.set_ylabel('portfolio value in $')\n",
    "\n",
    "    ax2 = fig.add_subplot(212)\n",
    "    perf['AAPL'].plot(ax=ax2)\n",
    "    perf[['short_mavg', 'long_mavg']].plot(ax=ax2)\n",
    "\n",
    "    perf_trans = perf.ix[[t != [] for t in perf.transactions]]\n",
    "    buys = perf_trans.ix[[t[0]['amount'] > 0 for t in perf_trans.transactions]]\n",
    "    sells = perf_trans.ix[\n",
    "        [t[0]['amount'] < 0 for t in perf_trans.transactions]]\n",
    "    ax2.plot(buys.index, perf.short_mavg.ix[buys.index],\n",
    "             '^', markersize=10, color='m')\n",
    "    ax2.plot(sells.index, perf.short_mavg.ix[sells.index],\n",
    "             'v', markersize=10, color='k')\n",
    "    ax2.set_ylabel('price in $')\n",
    "    plt.legend(loc=0)\n",
    "    plt.show()"
   ]
  },
  {
   "cell_type": "code",
   "execution_count": 43,
   "metadata": {
    "collapsed": false
   },
   "outputs": [
    {
     "ename": "TypeError",
     "evalue": "Cannot compare tz-naive and tz-aware timestamps",
     "output_type": "error",
     "traceback": [
      "\u001b[1;31m---------------------------------------------------------------------------\u001b[0m",
      "\u001b[1;31mTypeError\u001b[0m                                 Traceback (most recent call last)",
      "\u001b[1;32m<ipython-input-43-0865e0598f4f>\u001b[0m in \u001b[0;36m<module>\u001b[1;34m()\u001b[0m\n\u001b[0;32m     13\u001b[0m \u001b[1;33m\u001b[0m\u001b[0m\n\u001b[0;32m     14\u001b[0m \u001b[1;31m# Run algorithm\u001b[0m\u001b[1;33m\u001b[0m\u001b[1;33m\u001b[0m\u001b[0m\n\u001b[1;32m---> 15\u001b[1;33m \u001b[0mperf_manual\u001b[0m \u001b[1;33m=\u001b[0m \u001b[0malgo_obj\u001b[0m\u001b[1;33m.\u001b[0m\u001b[0mrun\u001b[0m\u001b[1;33m(\u001b[0m\u001b[0mdata\u001b[0m\u001b[1;33m)\u001b[0m\u001b[1;33m\u001b[0m\u001b[0m\n\u001b[0m",
      "\u001b[1;32m/home/pablo/anaconda2/lib/python2.7/site-packages/zipline/algorithm.pyc\u001b[0m in \u001b[0;36mrun\u001b[1;34m(self, data, overwrite_sim_params)\u001b[0m\n\u001b[0;32m    600\u001b[0m                     \u001b[1;31m# updating of first_open and last_close.\u001b[0m\u001b[1;33m\u001b[0m\u001b[1;33m\u001b[0m\u001b[0m\n\u001b[0;32m    601\u001b[0m                     self.sim_params.update_internal_from_env(\n\u001b[1;32m--> 602\u001b[1;33m                         \u001b[0menv\u001b[0m\u001b[1;33m=\u001b[0m\u001b[0mself\u001b[0m\u001b[1;33m.\u001b[0m\u001b[0mtrading_environment\u001b[0m\u001b[1;33m\u001b[0m\u001b[0m\n\u001b[0m\u001b[0;32m    603\u001b[0m                     )\n\u001b[0;32m    604\u001b[0m \u001b[1;33m\u001b[0m\u001b[0m\n",
      "\u001b[1;32m/home/pablo/anaconda2/lib/python2.7/site-packages/zipline/finance/trading.pyc\u001b[0m in \u001b[0;36mupdate_internal_from_env\u001b[1;34m(self, env)\u001b[0m\n\u001b[0;32m    447\u001b[0m             \u001b[1;34m\"Period start falls after period end.\"\u001b[0m\u001b[1;33m\u001b[0m\u001b[0m\n\u001b[0;32m    448\u001b[0m \u001b[1;33m\u001b[0m\u001b[0m\n\u001b[1;32m--> 449\u001b[1;33m         \u001b[1;32massert\u001b[0m \u001b[0mself\u001b[0m\u001b[1;33m.\u001b[0m\u001b[0mperiod_start\u001b[0m \u001b[1;33m<=\u001b[0m \u001b[0menv\u001b[0m\u001b[1;33m.\u001b[0m\u001b[0mlast_trading_day\u001b[0m\u001b[1;33m,\u001b[0m\u001b[0;31m \u001b[0m\u001b[0;31m\\\u001b[0m\u001b[1;33m\u001b[0m\u001b[0m\n\u001b[0m\u001b[0;32m    450\u001b[0m             \u001b[1;34m\"Period start falls after the last known trading day.\"\u001b[0m\u001b[1;33m\u001b[0m\u001b[0m\n\u001b[0;32m    451\u001b[0m         \u001b[1;32massert\u001b[0m \u001b[0mself\u001b[0m\u001b[1;33m.\u001b[0m\u001b[0mperiod_end\u001b[0m \u001b[1;33m>=\u001b[0m \u001b[0menv\u001b[0m\u001b[1;33m.\u001b[0m\u001b[0mfirst_trading_day\u001b[0m\u001b[1;33m,\u001b[0m\u001b[0;31m \u001b[0m\u001b[0;31m\\\u001b[0m\u001b[1;33m\u001b[0m\u001b[0m\n",
      "\u001b[1;32mpandas/tslib.pyx\u001b[0m in \u001b[0;36mpandas.tslib._Timestamp.__richcmp__ (pandas/tslib.c:18004)\u001b[1;34m()\u001b[0m\n",
      "\u001b[1;32mpandas/tslib.pyx\u001b[0m in \u001b[0;36mpandas.tslib._Timestamp._assert_tzawareness_compat (pandas/tslib.c:18384)\u001b[1;34m()\u001b[0m\n",
      "\u001b[1;31mTypeError\u001b[0m: Cannot compare tz-naive and tz-aware timestamps"
     ]
    }
   ],
   "source": [
    "# NOTE: This cell will take a few minutes to run.\n",
    "\n",
    "# Create algorithm object passing in initialize and\n",
    "# handle_data functions\n",
    "algo_obj = TradingAlgorithm(\n",
    "    initialize=initialize, \n",
    "    handle_data=handle_data\n",
    ")\n",
    "\n",
    "# HACK: Analyze isn't supported by the parameter-based API, so\n",
    "# tack it directly onto the object.\n",
    "algo_obj._analyze = analyze\n",
    "\n",
    "# Run algorithm\n",
    "perf_manual = algo_obj.run(data)"
   ]
  }
 ],
 "metadata": {
  "kernelspec": {
   "display_name": "Python 2",
   "language": "python",
   "name": "python2"
  },
  "language_info": {
   "codemirror_mode": {
    "name": "ipython",
    "version": 2
   },
   "file_extension": ".py",
   "mimetype": "text/x-python",
   "name": "python",
   "nbconvert_exporter": "python",
   "pygments_lexer": "ipython2",
   "version": "2.7.11"
  }
 },
 "nbformat": 4,
 "nbformat_minor": 0
}
